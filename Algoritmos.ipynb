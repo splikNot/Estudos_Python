{
 "cells": [
  {
   "cell_type": "markdown",
   "metadata": {
    "id": "FDwK64QYJwII"
   },
   "source": [
    "# Algoritmos"
   ]
  },
  {
   "cell_type": "code",
   "execution_count": 1,
   "metadata": {
    "id": "IC199KQjQUW-"
   },
   "outputs": [],
   "source": [
    "import random"
   ]
  },
  {
   "cell_type": "code",
   "execution_count": 2,
   "metadata": {
    "id": "faN4YRoTP-D6"
   },
   "outputs": [],
   "source": [
    "# Função para criar arrays aleatórios\n",
    "def test_array():\n",
    "    return random.sample(range(51), 25)"
   ]
  },
  {
   "cell_type": "markdown",
   "metadata": {
    "id": "_qFoBD_-GyeW"
   },
   "source": [
    "Algoritmo é um procedimento descrito passo a passo para resolução de um problema em tempo finito.\n",
    "\n",
    "Um algoritmo é análisado pelos fatores:\n",
    "* Tempo de execução\n",
    "* Complexidade\n",
    "* Consumo de memória\n",
    "* Eficiência de execução\n",
    "    - Qualidade de código\n",
    "    - Tipo de processador\n",
    "    - Qualidade do compilador\n",
    "    - Linguagem de programção"
   ]
  },
  {
   "cell_type": "markdown",
   "metadata": {
    "id": "OiAXo9RWJQO5"
   },
   "source": [
    "### Técnicas para algoritmos iterativos"
   ]
  },
  {
   "cell_type": "markdown",
   "metadata": {
    "id": "670gvX1XJ6zE"
   },
   "source": [
    "* Identifique as pré-condições do algoritmo\n",
    "* Idenfique os laços\n",
    "* Identifique as condições de permanencia no laço\n",
    "* Mostre que há finitude (As consições são eventualmente atendidas)\n",
    "* Identifique a regra de transição (lei de recorrência) em cada laço\n",
    "* Encontre um invariante adequado ao algoritmo. (Propriedades ou proposições lógicas que permanecem inalteradas em todos os laços, **não são afetados pelas regras de transição**)\n",
    "* Mostre que o invariante ao final leva ao resultado correto."
   ]
  },
  {
   "cell_type": "markdown",
   "metadata": {
    "id": "MluUimRLhAsD"
   },
   "source": [
    "### Análise Assintótica"
   ]
  },
  {
   "cell_type": "markdown",
   "metadata": {},
   "source": [
    "### Recursão"
   ]
  },
  {
   "cell_type": "markdown",
   "metadata": {
    "id": "lRHUY4t_LN0d"
   },
   "source": [
    "## Sort (Ordenação)"
   ]
  },
  {
   "cell_type": "markdown",
   "metadata": {
    "id": "fRTW4PdcLVZX"
   },
   "source": [
    "### Selection Sort (Ordenação por seleção)\n"
   ]
  },
  {
   "cell_type": "code",
   "execution_count": 3,
   "metadata": {
    "id": "eoCzpnLQLNEj"
   },
   "outputs": [],
   "source": [
    "def selection_sortAsc(array):\n",
    "\n",
    "    for i in range(len(array)): # Percorremos cada elemento no array\n",
    "        min_pos = i # Posição do menor valor\n",
    "        min_val = array[i] # Valor atribuído aquela posição\n",
    "\n",
    "        for j in range(i+1, len(array)): # Percorremos todos os elementos a partir da posição inicial\n",
    "            if min_val > array[j]:  # Se for encontrado um valor menor ao registrado\n",
    "                min_val = array[j] # Registramos esse novo valor\n",
    "                min_pos = j # e posição\n",
    "\n",
    "        temp = array[i] # Salvamos o valor de array[i] numa váriavel auxiliar\n",
    "        array[i] = min_val #Trocamos o valor de array[i] pelo menor valor encontrado até então\n",
    "        array[min_pos] = temp\n",
    "\n",
    "    return array\n",
    "\n",
    "# Não é muito dífícil imaginar o que devemos fazer se quiséssemos organizar em ordem decrescente\n",
    "\n",
    "def selection_sortDesc(array):\n",
    "\n",
    "    for i in range(len(array)): # Iniciamos com o primeiro elemento sendo o maior valor encontrado até então\n",
    "        max_pos = i\n",
    "        max_val = array[i]\n",
    "\n",
    "        for j in range(i+1, len(array)): # Percorremos todos os elementos a partir de i porque todas posições anteriores já\n",
    "        # foram organizadas, nosso algoritmo sempre inicia no primeiro elemento.\n",
    "\n",
    "            if max_val < array[j]:  # Se for encontrado um valor que seja maior\n",
    "                max_val = array[j] # Registramos esse novo valor\n",
    "                max_pos = j # e a posição\n",
    "\n",
    "        temp = array[i] # Salvamos o valor de array[i] numa váriavel auxiliar\n",
    "        array[i] = max_val #Trocamos o valor de array[i] pelo menor valor encontrado até então\n",
    "        array[max_pos] = temp\n",
    "\n",
    "    return array"
   ]
  },
  {
   "cell_type": "code",
   "execution_count": 4,
   "metadata": {
    "colab": {
     "base_uri": "https://localhost:8080/"
    },
    "id": "o38n-XzsGx0S",
    "outputId": "b9c7029a-c6a9-4637-8a0e-ddfe7bb3a516"
   },
   "outputs": [
    {
     "name": "stdout",
     "output_type": "stream",
     "text": [
      "[0, 17, 48, 16, 20, 25, 32, 33, 22, 43, 46, 27, 31, 12, 39, 37, 24, 44, 50, 29, 19, 47, 23, 21, 49]\n"
     ]
    }
   ],
   "source": [
    "\n",
    "numeros = test_array()\n",
    "print (numeros)"
   ]
  },
  {
   "cell_type": "code",
   "execution_count": 5,
   "metadata": {
    "colab": {
     "base_uri": "https://localhost:8080/"
    },
    "id": "3DH0Dc6rlHe7",
    "outputId": "608e7fa1-d2ed-421b-f124-45c80ba64cc8"
   },
   "outputs": [
    {
     "name": "stdout",
     "output_type": "stream",
     "text": [
      "[0, 12, 16, 17, 19, 20, 21, 22, 23, 24, 25, 27, 29, 31, 32, 33, 37, 39, 43, 44, 46, 47, 48, 49, 50]\n"
     ]
    }
   ],
   "source": [
    "# Ordem crescente\n",
    "print(selection_sortAsc(numeros))"
   ]
  },
  {
   "cell_type": "code",
   "execution_count": 6,
   "metadata": {
    "colab": {
     "base_uri": "https://localhost:8080/"
    },
    "id": "HYhYJ-0WRXIA",
    "outputId": "081fc895-4a67-4c51-a3e5-b76f4958ef23"
   },
   "outputs": [
    {
     "name": "stdout",
     "output_type": "stream",
     "text": [
      "[37, 47, 5, 23, 42, 6, 43, 3, 33, 14, 16, 28, 25, 45, 36, 48, 35, 19, 41, 39, 29, 30, 26, 20, 10]\n"
     ]
    }
   ],
   "source": [
    "numeros = test_array()\n",
    "print (numeros)"
   ]
  },
  {
   "cell_type": "code",
   "execution_count": 7,
   "metadata": {
    "colab": {
     "base_uri": "https://localhost:8080/"
    },
    "id": "a390X3a0UeZt",
    "outputId": "7b71384d-5094-4e73-c231-2581c44dd1b6"
   },
   "outputs": [
    {
     "name": "stdout",
     "output_type": "stream",
     "text": [
      "[48, 47, 45, 43, 42, 41, 39, 37, 36, 35, 33, 30, 29, 28, 26, 25, 23, 20, 19, 16, 14, 10, 6, 5, 3]\n"
     ]
    }
   ],
   "source": [
    "# Ordem decrescente\n",
    "print(selection_sortDesc(numeros))"
   ]
  },
  {
   "cell_type": "markdown",
   "metadata": {
    "id": "Ct5jgzhvUN7K"
   },
   "source": [
    "### Insertion Sort (Ordenação por inserção)"
   ]
  },
  {
   "cell_type": "code",
   "execution_count": 8,
   "metadata": {
    "id": "vxQ52zl4Uhe2"
   },
   "outputs": [],
   "source": [
    "# Pelo o que eu entendi do exemplo:\n",
    "# Inicia se um laço para percorrer o array a partir do segundo elemento\n",
    "# Verificamos se o valor da posição é menor que o da anterior\n",
    "# Enquanto a sentença anterior for positiva, trocamos de posição os dois elementos\n",
    "# Passmos assim para o próximo elemento sucessivamente, pois ao final do passo anterior espera-se colocar o elemento em sua posição\n",
    "# correta e definitiva\n",
    "\n",
    "def insertion_sortAsc(array):\n",
    "\n",
    "    for i in range(1,len(array)): # Iniciamos o laço na segunda posição\n",
    "        temp = array[i] # Salvamos o seu valor\n",
    "        j=i # E a posição em um segundo ponteiro\n",
    "\n",
    "        while j > 0 and temp < array[j-1]: # Enquanto a posição do ponteiro for maior que 0 (inicio da lista).\n",
    "                                            # E o valor for menor que a posição anterior\n",
    "            array[j] = array[j-1]       # Passamos o valor de trás para frente\n",
    "            j -= 1                    # Reduzindo o valor do ponteiro (garantindo a finitude do laço)\n",
    "\n",
    "        array[j] = temp\n",
    "\n",
    "    return array\n",
    "\n",
    "# Invertendo a lógica\n",
    "\n",
    "def insertion_sortDesc(array):\n",
    "\n",
    "    for i in range(1,len(array)): # Iniciamos o laço na segunda posição\n",
    "        temp = array[i] # Salvamos o seu valor\n",
    "        j=i # E a posição em um ponteiro\n",
    "\n",
    "        while j > 0 and temp > array[j-1]: # Enquanto a posição do ponteiro for maior que 0 (inicio da lista).\n",
    "                                            # E o valor for maior que a posição anterior\n",
    "            array[j] = array[j-1]       # Passamos o valor anterior para frente\n",
    "            j -= 1                    # Reduzindo o valor do ponteiro para testar com a posição anterior que a vizinha\n",
    "\n",
    "        array[j] = temp               # Ao final do laço while, salvamos o inicial na posição do ponteiro j.\n",
    "\n",
    "    return array\n",
    "\n",
    "\n"
   ]
  },
  {
   "cell_type": "code",
   "execution_count": 9,
   "metadata": {
    "colab": {
     "base_uri": "https://localhost:8080/"
    },
    "id": "L3efdoVMclCW",
    "outputId": "88a41146-a973-45e8-c6a3-ffb30c74bede"
   },
   "outputs": [
    {
     "name": "stdout",
     "output_type": "stream",
     "text": [
      "[18, 0, 12, 32, 17, 49, 23, 7, 38, 24, 31, 22, 6, 26, 44, 13, 27, 35, 36, 29, 50, 28, 3, 40, 25]\n"
     ]
    }
   ],
   "source": [
    "newArray = test_array()\n",
    "print(newArray)"
   ]
  },
  {
   "cell_type": "code",
   "execution_count": 10,
   "metadata": {
    "colab": {
     "base_uri": "https://localhost:8080/"
    },
    "id": "HACfwdwEdPBq",
    "outputId": "1e66fe27-1889-4673-b027-d49fe390c9c5"
   },
   "outputs": [
    {
     "name": "stdout",
     "output_type": "stream",
     "text": [
      "[0, 3, 6, 7, 12, 13, 17, 18, 22, 23, 24, 25, 26, 27, 28, 29, 31, 32, 35, 36, 38, 40, 44, 49, 50]\n"
     ]
    }
   ],
   "source": [
    "print(insertion_sortAsc(newArray))"
   ]
  },
  {
   "cell_type": "code",
   "execution_count": 11,
   "metadata": {
    "colab": {
     "base_uri": "https://localhost:8080/"
    },
    "id": "-YmMWtOtdh4T",
    "outputId": "9fc54530-c930-44a1-c53b-4b9b805feef1"
   },
   "outputs": [
    {
     "name": "stdout",
     "output_type": "stream",
     "text": [
      "[2, 35, 22, 30, 38, 20, 4, 18, 37, 12, 7, 49, 44, 46, 36, 24, 10, 25, 6, 47, 40, 13, 16, 21, 32]\n"
     ]
    }
   ],
   "source": [
    "newArray = test_array()\n",
    "print(newArray)"
   ]
  },
  {
   "cell_type": "code",
   "execution_count": 12,
   "metadata": {
    "colab": {
     "base_uri": "https://localhost:8080/"
    },
    "id": "-XuzV2K_gOJs",
    "outputId": "d73172f1-1b65-475a-acf8-c0213c701215"
   },
   "outputs": [
    {
     "name": "stdout",
     "output_type": "stream",
     "text": [
      "[49, 47, 46, 44, 40, 38, 37, 36, 35, 32, 30, 25, 24, 22, 21, 20, 18, 16, 13, 12, 10, 7, 6, 4, 2]\n"
     ]
    }
   ],
   "source": [
    "print(insertion_sortDesc(newArray))"
   ]
  },
  {
   "cell_type": "markdown",
   "metadata": {},
   "source": [
    "### Mergesort (Ordenação por União)"
   ]
  },
  {
   "cell_type": "markdown",
   "metadata": {},
   "source": [
    "Usando o conceito de **Divisão e Conquista** e **Recursão** para realizar ordenação."
   ]
  },
  {
   "cell_type": "code",
   "execution_count": 13,
   "metadata": {},
   "outputs": [],
   "source": [
    "def mergesort(vect):\n",
    "    # Cria um vetor temporario para nos auxiliar nas operações\n",
    "    temp = [None]*len(vect)\n",
    "\n",
    "    # Função para chamar a recursão\n",
    "    def mergesort_rec(left, right):\n",
    "        # Se o próximo valor do ponteiro da esquerda for menor que o ponteiro da direita\n",
    "        # Ou seja, só não vale quando a proxima posição do ponteiro da esquerda a é a mesma do ponteiro da direita\n",
    "        if (left + 1) < right:\n",
    "            center = (left+right)//2 # Salvando a posição central para ser passado como referência na função merge\n",
    "            \n",
    "            mergesort_rec(left,center) # Chama recursivamente a função no lado esquerdo\n",
    "            mergesort_rec(center, right) # Chama recursivamente no lado direito\n",
    "            merge(left,center,right) # Chama a função quem realiza a união das partes da recursão\n",
    "    \n",
    "    def merge(left, mid, right):\n",
    "        i_left = left         # Iterador da primeira metade.\n",
    "        i_right = mid         # Iterador da segunda metade.\n",
    "        i_out = left          # Iterador da posição de saída, começamos pelo inicio do vetor ou subvetor\n",
    "\n",
    "        # Enquanto o ponteiro da esquerda for menor que a posição central\n",
    "        # E enquanto o ponteiro da direita for menor que a posição final do vetor/subvetor\n",
    "        while i_left < mid and i_right < right: \n",
    "\n",
    "            # Se o ponteiro esquerdo apontar para um valor menor no vetor que o ponteiro direito \n",
    "            if vect[i_left] < vect[i_right]:\n",
    "                temp[i_out] = vect[i_left] # Copiamos os valores do vetor a esquerda para o vetor auxiliar\n",
    "                i_left += 1                # Enquanto a declaração permanecer verdadeira no laço.\n",
    "                \n",
    "            # Caso contrário, o ponteiro esquerdo aponta para um valor no vetor maior que o valor no apontado pelo ponteiro direito\n",
    "            else:\n",
    "                temp[i_out] = vect[i_right] # Copiamos os valores do vetor a direita para o auxiliar\n",
    "                i_right += 1                # Novamente, enquanto a declaração de que vect[i_left] > vect[i_right] continuar verdadeira\n",
    "                \n",
    "            i_out += 1 # Andamos uma posição com o iterador de saída\n",
    "            \n",
    "        # Enquanto o ponteiro da esquerda for menor que o central\n",
    "        while i_left < mid:\n",
    "            temp[i_out] = vect[i_left] # Copiamos os valores da esquerda do vetor para o vetor auxiliar\n",
    "            i_left += 1 \n",
    "            i_out += 1\n",
    "\n",
    "        # Enquanto o ponteiro da direita for menor que a posição final\n",
    "        while i_right < right:\n",
    "            temp[i_out] = vect[i_right] # Copiamos os valores da direita para o vetor auxiliar\n",
    "            i_right += 1\n",
    "            i_out += 1\n",
    "\n",
    "        # Ao final dos whiles, precisamos copiar de volta os valores anotados no vetor temporário de volta ao nosso vetor\n",
    "        \n",
    "        for i in range(left, right):\n",
    "            vect[i] = temp[i]\n",
    "\n",
    "    # Chamada inicial da recursão quandoa  função principal mergesort() é chamada\n",
    "    mergesort_rec(0,len(vect))\n",
    "    return vect\n",
    "\n",
    "# Sinceramente, achei o algoritmo confuso mas conseguir compreender afinal de contas. Se alguém quiser enteder melhor como funciona, recomendo fortemente\n",
    "# usar o debugger"
   ]
  },
  {
   "cell_type": "code",
   "execution_count": 14,
   "metadata": {},
   "outputs": [
    {
     "name": "stdout",
     "output_type": "stream",
     "text": [
      "[37, 11, 20, 23, 33, 35, 24, 47, 7, 40, 45, 30, 32, 49, 13, 19, 36, 9, 6, 5, 17, 38, 27, 16, 14]\n"
     ]
    }
   ],
   "source": [
    "# Array de teste\n",
    "newArray = test_array()\n",
    "print(newArray)"
   ]
  },
  {
   "cell_type": "code",
   "execution_count": 15,
   "metadata": {},
   "outputs": [
    {
     "name": "stdout",
     "output_type": "stream",
     "text": [
      "[5, 6, 7, 9, 11, 13, 14, 16, 17, 19, 20, 23, 24, 27, 30, 32, 33, 35, 36, 37, 38, 40, 45, 47, 49]\n"
     ]
    }
   ],
   "source": [
    "arrayOrdenado = mergesort(newArray)\n",
    "print(arrayOrdenado)"
   ]
  },
  {
   "cell_type": "markdown",
   "metadata": {},
   "source": [
    "Acho interessante destacar a versão do **GPT** para o algoritmo pois é menos complexo:\n",
    "\n",
    "```\n",
    "def merge_sort(lista):\n",
    "    if len(lista) <= 1:\n",
    "        return lista  # Caso base: listas com 0 ou 1 elemento já estão ordenadas\n",
    "\n",
    "    meio = len(lista) // 2\n",
    "    esquerda = merge_sort(lista[:meio])  # Ordena a metade esquerda\n",
    "    direita = merge_sort(lista[meio:])  # Ordena a metade direita\n",
    "\n",
    "    return merge(esquerda, direita)\n",
    "\n",
    "def merge(esquerda, direita):\n",
    "    resultado = []\n",
    "    i = j = 0\n",
    "\n",
    "    # Combina as duas metades ordenadas\n",
    "    while i < len(esquerda) and j < len(direita):\n",
    "        if esquerda[i] < direita[j]:\n",
    "            resultado.append(esquerda[i])\n",
    "            i += 1\n",
    "        else:\n",
    "            resultado.append(direita[j])\n",
    "            j += 1\n",
    "\n",
    "    # Adiciona os elementos restantes\n",
    "    resultado.extend(esquerda[i:])\n",
    "    resultado.extend(direita[j:])\n",
    "\n",
    "    return resultado\n",
    "```"
   ]
  },
  {
   "cell_type": "markdown",
   "metadata": {},
   "source": [
    "### Quicksort (Ordenação ligeirinha)"
   ]
  },
  {
   "cell_type": "code",
   "execution_count": 16,
   "metadata": {},
   "outputs": [],
   "source": [
    "# Ta bom, eu aloprei na tradução\n",
    "\n",
    "def quicksort(array, inicio, fim):\n",
    "\n",
    "    # Se tentarcolocar inicialização padrão da erro.\n",
    "    # Return não vai dar certo porque a função vai ser chamada recursivamente\n",
    "    \n",
    "    # Se chegar ao final e encontrar nada\n",
    "    if inicio >= fim:\n",
    "        return None\n",
    "\n",
    "    pivot = array[fim] # Salva o pivot como o valor do último elemento do array\n",
    "    left = inicio      # Ponteiro esquero aponta no inicio do array\n",
    "    right = fim - 1    # Ponteiro direito aponta para penultima posição do array.\n",
    "\n",
    "    \n",
    "    # Enquanto o ponteiro esquerdo for menor que o direito\n",
    "    while left <= right:\n",
    "        # Enquanto o ponteiro esquerdo for menor que o direito e o valor apontado pelo ponteiro esquerdo for menor que o valor do pivot\n",
    "        while left <= right and array[left] <= pivot:\n",
    "            left += 1 # Ponteiro esquerdo avança um nó\n",
    "\n",
    "        # Enquanto o ponteiro esquerdo for menor que o direito e o valor apontado pelo ponteiro direito for maior que o valor do pivot\n",
    "        while left <= right and array[right] >= pivot:\n",
    "            right -= 1 # Ponteiro direito regride uma casa\n",
    "\n",
    "        # Se o ponteiro esquerdo for menor que o ponteiro direito\n",
    "        if left < right:\n",
    "            \n",
    "            # Trocamos os valores apontados entre os ponteiros\n",
    "            temp = array[left]\n",
    "            array[left] = array[right]\n",
    "            array[right] = temp\n",
    "\n",
    "    # Ao final do laço\n",
    "    array[fim] = array[left] # A posição final recebe o valor apontado pelo ponteiro esquerdo\n",
    "    array[left] = pivot # E o esquerdo recebe o valor do pivot\n",
    "\n",
    "    quicksort(array, inicio, (left - 1)) # Chama recursivamente o quicksort na primeira metade\n",
    "    quicksort(array, (left + 1), fim)    # Chama recursivamente o quicksort na segunda metade"
   ]
  },
  {
   "cell_type": "code",
   "execution_count": 17,
   "metadata": {},
   "outputs": [
    {
     "name": "stdout",
     "output_type": "stream",
     "text": [
      "[42, 14, 2, 13, 11, 15, 46, 16, 8, 21, 47, 18, 41, 48, 35, 7, 36, 23, 24, 9, 22, 0, 26, 37, 10]\n"
     ]
    }
   ],
   "source": [
    "# Array de teste\n",
    "newArray = test_array()\n",
    "print(newArray)"
   ]
  },
  {
   "cell_type": "code",
   "execution_count": 18,
   "metadata": {},
   "outputs": [
    {
     "name": "stdout",
     "output_type": "stream",
     "text": [
      "[0, 2, 7, 8, 9, 10, 11, 13, 14, 15, 16, 18, 21, 22, 23, 24, 26, 35, 36, 37, 41, 42, 46, 47, 48]\n"
     ]
    }
   ],
   "source": [
    "quicksort(newArray, 0, len(newArray) - 1)\n",
    "print(newArray)"
   ]
  },
  {
   "cell_type": "markdown",
   "metadata": {},
   "source": [
    "A solução do **GPT** para o quicksort é bem mais concisa:\n",
    "\n",
    "```\n",
    "def quick_sort(lista):\n",
    "    if len(lista) <= 1:\n",
    "        return lista  # Caso base: listas com 0 ou 1 elemento já estão ordenadas\n",
    "\n",
    "    pivo = lista[len(lista) // 2]  # Escolhe o pivô (neste caso, o elemento do meio)\n",
    "    menores = [x for x in lista if x < pivo]  # Elementos menores que o pivô\n",
    "    iguais = [x for x in lista if x == pivo]  # Elementos iguais ao pivô\n",
    "    maiores = [x for x in lista if x > pivo]  # Elementos maiores que o pivô\n",
    "\n",
    "    return quick_sort(menores) + iguais + quick_sort(maiores)  # Recursão e concatenação\n",
    "```\n"
   ]
  },
  {
   "cell_type": "markdown",
   "metadata": {
    "id": "9yYzlzWBlAAk"
   },
   "source": [
    "## Busca"
   ]
  },
  {
   "cell_type": "markdown",
   "metadata": {
    "id": "Tl-BsdOWl8f2"
   },
   "source": [
    "### Busca Sequencial"
   ]
  },
  {
   "cell_type": "code",
   "execution_count": 19,
   "metadata": {
    "id": "RGjqsIAdl7hz"
   },
   "outputs": [],
   "source": [
    "# Solução mais trivial para realizar uma busca. Percorrer a lista inteira em busca do elemento\n",
    "def search_seq(array, key):\n",
    "    for index, value in enumerate(array):\n",
    "        if value == key:\n",
    "            return index"
   ]
  },
  {
   "cell_type": "code",
   "execution_count": 20,
   "metadata": {
    "id": "Vpk0ugWlmlpl"
   },
   "outputs": [],
   "source": [
    "fruits = [\"banana\", \"maça\", \"pera\", \"uva\", \"laranja\", \"goiaba\", \"abacate\",\"maracuja\",\"morango\",\n",
    "         \"melancia\",\"mamao\",\"carambola\",\"jabuticaba\",\"lichia\",\"limao\",\"caqui\",\"kiwi\",\"amora\",\"manga\"]"
   ]
  },
  {
   "cell_type": "code",
   "execution_count": 21,
   "metadata": {
    "colab": {
     "base_uri": "https://localhost:8080/"
    },
    "id": "uwSWukangUvn",
    "outputId": "e671c513-610f-4211-b21b-b0f3c6a57395"
   },
   "outputs": [
    {
     "name": "stdout",
     "output_type": "stream",
     "text": [
      "Word located at: 8\n",
      "CPU times: user 1.21 ms, sys: 30 μs, total: 1.24 ms\n",
      "Wall time: 2.93 ms\n"
     ]
    }
   ],
   "source": [
    "%%time\n",
    "print(\"Word located at: %d\" %search_seq(fruits, \"morango\"))"
   ]
  },
  {
   "cell_type": "markdown",
   "metadata": {
    "id": "tJc70rSsrQT7"
   },
   "source": [
    "### Busca Binária"
   ]
  },
  {
   "cell_type": "markdown",
   "metadata": {},
   "source": [
    "Algoritmos de buscas binárias, no geral, exigem que as **entradas dos dados sejam ordenadas para que funcione.**"
   ]
  },
  {
   "cell_type": "code",
   "execution_count": 22,
   "metadata": {
    "id": "AmP_obtBorCL"
   },
   "outputs": [],
   "source": [
    "# Supondo agora que temos um arranjo ordenado.\n",
    "# Nesse caso podemos dividir o problema em dois a cada passo verificando se o elemento está na metade\n",
    "# Superior ou inferior\n",
    "\n",
    "def binary_search(array, key):\n",
    "    lowPointer = 0\n",
    "    highPointer = len(array) - 1\n",
    "\n",
    "    while lowPointer <= highPointer:\n",
    "\n",
    "        midPointer = (lowPointer + highPointer)//2\n",
    "\n",
    "        if array[midPointer] == key:\n",
    "            return midPointer\n",
    "\n",
    "        elif array[midPointer] < key:\n",
    "            lowPointer = midPointer + 1\n",
    "\n",
    "        else:\n",
    "            highPointer = midPointer - 1\n",
    "    return None\n"
   ]
  },
  {
   "cell_type": "code",
   "execution_count": 23,
   "metadata": {
    "colab": {
     "base_uri": "https://localhost:8080/"
    },
    "id": "ZdbwaAIMs_a4",
    "outputId": "3da6b3b0-3527-4bfa-bbf6-fbbd321635e5"
   },
   "outputs": [
    {
     "name": "stdout",
     "output_type": "stream",
     "text": [
      "[4, 48, 6, 19, 40, 12, 26, 3, 18, 23, 37, 15, 20, 13, 25, 42, 28, 16, 35, 31, 22, 30, 34, 2, 21]\n"
     ]
    }
   ],
   "source": [
    "# Array de teste\n",
    "newArray = test_array()\n",
    "print(newArray)"
   ]
  },
  {
   "cell_type": "code",
   "execution_count": 24,
   "metadata": {
    "colab": {
     "base_uri": "https://localhost:8080/"
    },
    "id": "T7upiAp7tJi8",
    "outputId": "3e5a7ba1-0886-4d9b-9a01-d5b17af89a2c"
   },
   "outputs": [
    {
     "name": "stdout",
     "output_type": "stream",
     "text": [
      "[2, 3, 4, 6, 12, 13, 15, 16, 18, 19, 20, 21, 22, 23, 25, 26, 28, 30, 31, 34, 35, 37, 40, 42, 48]\n",
      "\n",
      "Number located at: 22\n",
      "CPU times: user 1.06 ms, sys: 1.08 ms, total: 2.13 ms\n",
      "Wall time: 1.51 ms\n"
     ]
    }
   ],
   "source": [
    "%%time\n",
    "#Ordenando o array\n",
    "newArray = insertion_sortAsc(newArray)\n",
    "\n",
    "print(newArray)\n",
    "print(\"\")\n",
    "\n",
    "key = 40\n",
    "position = binary_search(newArray, 40)\n",
    "\n",
    "if position:\n",
    "    print(\"Number located at: %d\" %position)\n",
    "else:\n",
    "    print(\"No value located\")"
   ]
  },
  {
   "cell_type": "markdown",
   "metadata": {
    "id": "1b2ZmPNOvDWr"
   },
   "source": [
    "### Busca Binária Recursiva"
   ]
  },
  {
   "cell_type": "code",
   "execution_count": 25,
   "metadata": {
    "id": "Oz1x7fRyt6GF"
   },
   "outputs": [],
   "source": [
    "def recursive_BinSearch(array, key, left=0, right=None):\n",
    "\n",
    "    if right == None:\n",
    "        right = len(array)-1\n",
    "    \n",
    "    if left >= right: # Situação em que nenhum valor foi encontrado\n",
    "        return None\n",
    "        \n",
    "    mid = (left + right)//2 # Valor central da lista\n",
    "\n",
    "    # Caso o valor central seja maior que o procurado(lembrando que nossa lista está ordenada)\n",
    "    if array[mid] > key:\n",
    "        # Chamamos a função recursivamente na metade inferior da lista, procurando do esquerda até o meio.\n",
    "        return recursive_BinSearch(array, key, left, mid)\n",
    "\n",
    "    # Caso o valor do meio seja menor que a chave procurada\n",
    "    elif array[mid] < key:\n",
    "        # A função é chamada recursivamente a partir da metade até o final do array\n",
    "        return recursive_BinSearch(array, key, mid+1, right)\n",
    "\n",
    "    # Essa sucessão de divisões e conquista nos trás a dois caso, nenhum valor encontrado, já tratado no ínicio.\n",
    "    # Ou programa vai chegar no caso em que nenhum dos if's são satisfeitos por o valor procurado é o valor do meio\n",
    "    # Assim, o programa retorna a posição do elemento procurado caso não ocorra nenhum dos if's.\n",
    "        \n",
    "    return mid\n",
    "        "
   ]
  },
  {
   "cell_type": "code",
   "execution_count": 26,
   "metadata": {},
   "outputs": [
    {
     "name": "stdout",
     "output_type": "stream",
     "text": [
      "[3, 29, 34, 2, 49, 36, 33, 12, 14, 30, 24, 47, 25, 38, 48, 27, 45, 19, 4, 26, 31, 20, 39, 16, 15]\n"
     ]
    }
   ],
   "source": [
    "# Array de teste\n",
    "newArray = test_array()\n",
    "print(newArray)"
   ]
  },
  {
   "cell_type": "code",
   "execution_count": 27,
   "metadata": {},
   "outputs": [
    {
     "name": "stdout",
     "output_type": "stream",
     "text": [
      "[2, 3, 4, 12, 14, 15, 16, 19, 20, 24, 25, 26, 27, 29, 30, 31, 33, 34, 36, 38, 39, 45, 47, 48, 49]\n",
      "\n",
      "No value located\n",
      "CPU times: user 362 μs, sys: 974 μs, total: 1.34 ms\n",
      "Wall time: 1.2 ms\n"
     ]
    }
   ],
   "source": [
    "%%time\n",
    "#Ordenando o array\n",
    "newArray = insertion_sortAsc(newArray)\n",
    "\n",
    "print(newArray)\n",
    "print(\"\")\n",
    "\n",
    "key = 40\n",
    "position = recursive_BinSearch(newArray, 40)\n",
    "\n",
    "if position:\n",
    "    print(\"Number located at: %d\" %position)\n",
    "else:\n",
    "    print(\"No value located\")"
   ]
  },
  {
   "cell_type": "code",
   "execution_count": 28,
   "metadata": {},
   "outputs": [
    {
     "name": "stdout",
     "output_type": "stream",
     "text": [
      "\u001b[?25l\u001b[?7l\u001b[0m\u001b[34m\u001b[1m           `.:/ossyyyysso/:.\n",
      "        .:oyyyyyyyyyyyyyyyyyyo:`\n",
      "      -oyyyyyyyo\u001b[37m\u001b[0m\u001b[1mdMMy\u001b[0m\u001b[34m\u001b[1myyyyyyysyyyyo-\n",
      "    -syyyyyyyyyy\u001b[37m\u001b[0m\u001b[1mdMMy\u001b[0m\u001b[34m\u001b[1moyyyy\u001b[37m\u001b[0m\u001b[1mdmMMy\u001b[0m\u001b[34m\u001b[1myyyys-\n",
      "   oyyys\u001b[37m\u001b[0m\u001b[1mdMy\u001b[0m\u001b[34m\u001b[1msyyyy\u001b[37m\u001b[0m\u001b[1mdMMMMMMMMMMMMMy\u001b[0m\u001b[34m\u001b[1myyyyyyo\n",
      " `oyyyy\u001b[37m\u001b[0m\u001b[1mdMMMMy\u001b[0m\u001b[34m\u001b[1msyysoooooo\u001b[37m\u001b[0m\u001b[1mdMMMMy\u001b[0m\u001b[34m\u001b[1myyyyyyyyo`\n",
      " oyyyyyy\u001b[37m\u001b[0m\u001b[1mdMMMMy\u001b[0m\u001b[34m\u001b[1myyyyyyyyyyys\u001b[37m\u001b[0m\u001b[1mdMMy\u001b[0m\u001b[34m\u001b[1msssssyyyo\n",
      "-yyyyyyyy\u001b[37m\u001b[0m\u001b[1mdMy\u001b[0m\u001b[34m\u001b[1msyyyyyyyyyyyyyys\u001b[37m\u001b[0m\u001b[1mdMMMMMy\u001b[0m\u001b[34m\u001b[1msyyy-\n",
      "oyyyysoo\u001b[37m\u001b[0m\u001b[1mdMy\u001b[0m\u001b[34m\u001b[1myyyyyyyyyyyyyyyyyy\u001b[37m\u001b[0m\u001b[1mdMMMMy\u001b[0m\u001b[34m\u001b[1msyyyo\n",
      "yyys\u001b[37m\u001b[0m\u001b[1mdMMMMMy\u001b[0m\u001b[34m\u001b[1myyyyyyyyyyyyyyyyyysosyyyyyyyy\n",
      "yyys\u001b[37m\u001b[0m\u001b[1mdMMMMMy\u001b[0m\u001b[34m\u001b[1myyyyyyyyyyyyyyyyyyyyyyyyyyyyy\n",
      "oyyyyysos\u001b[37m\u001b[0m\u001b[1mdy\u001b[0m\u001b[34m\u001b[1myyyyyyyyyyyyyyyyyy\u001b[37m\u001b[0m\u001b[1mdMMMMy\u001b[0m\u001b[34m\u001b[1msyyyo\n",
      "-yyyyyyyy\u001b[37m\u001b[0m\u001b[1mdMy\u001b[0m\u001b[34m\u001b[1msyyyyyyyyyyyyyys\u001b[37m\u001b[0m\u001b[1mdMMMMMy\u001b[0m\u001b[34m\u001b[1msyyy-\n",
      " oyyyyyy\u001b[37m\u001b[0m\u001b[1mdMMMy\u001b[0m\u001b[34m\u001b[1msyyyyyyyyyyys\u001b[37m\u001b[0m\u001b[1mdMMy\u001b[0m\u001b[34m\u001b[1moyyyoyyyo\n",
      " `oyyyy\u001b[37m\u001b[0m\u001b[1mdMMMy\u001b[0m\u001b[34m\u001b[1msyyyoooooo\u001b[37m\u001b[0m\u001b[1mdMMMMy\u001b[0m\u001b[34m\u001b[1moyyyyyyyyo\n",
      "   oyyysyyoyyyys\u001b[37m\u001b[0m\u001b[1mdMMMMMMMMMMMy\u001b[0m\u001b[34m\u001b[1myyyyyyyo\n",
      "    -syyyyyyyyy\u001b[37m\u001b[0m\u001b[1mdMMMy\u001b[0m\u001b[34m\u001b[1msyyy\u001b[37m\u001b[0m\u001b[1mdMMMy\u001b[0m\u001b[34m\u001b[1msyyyys-\n",
      "      -oyyyyyyy\u001b[37m\u001b[0m\u001b[1mdMMy\u001b[0m\u001b[34m\u001b[1myyyyyysosyyyyo-\n",
      "        ./oyyyyyyyyyyyyyyyyyyo/.\n",
      "           `.:/oosyyyysso/:.`\u001b[0m\n",
      "\u001b[20A\u001b[9999999D\u001b[43C\u001b[0m\u001b[1m\u001b[34m\u001b[1mraphael\u001b[0m@\u001b[34m\u001b[1mninjaway\u001b[0m \n",
      "\u001b[43C\u001b[0m----------------\u001b[0m \n",
      "\u001b[43C\u001b[0m\u001b[34m\u001b[1mOS\u001b[0m\u001b[0m:\u001b[0m Kubuntu 24.04.2 LTS x86_64\u001b[0m \n",
      "\u001b[43C\u001b[0m\u001b[34m\u001b[1mHost\u001b[0m\u001b[0m:\u001b[0m HP Pavilion 14 Notebook PC 0976100000405F10000610180\u001b[0m \n",
      "\u001b[43C\u001b[0m\u001b[34m\u001b[1mKernel\u001b[0m\u001b[0m:\u001b[0m 6.8.0-53-generic\u001b[0m \n",
      "\u001b[43C\u001b[0m\u001b[34m\u001b[1mUptime\u001b[0m\u001b[0m:\u001b[0m 8 hours, 15 mins\u001b[0m \n",
      "\u001b[43C\u001b[0m\u001b[34m\u001b[1mPackages\u001b[0m\u001b[0m:\u001b[0m 3215 (dpkg), 17 (snap)\u001b[0m \n",
      "\u001b[43C\u001b[0m\u001b[34m\u001b[1mShell\u001b[0m\u001b[0m:\u001b[0m bash 5.2.21\u001b[0m \n",
      "\u001b[43C\u001b[0m\u001b[34m\u001b[1mResolution\u001b[0m\u001b[0m:\u001b[0m 1366x768\u001b[0m \n",
      "\u001b[43C\u001b[0m\u001b[34m\u001b[1mDE\u001b[0m\u001b[0m:\u001b[0m Plasma 5.27.12\u001b[0m \n",
      "\u001b[43C\u001b[0m\u001b[34m\u001b[1mWM\u001b[0m\u001b[0m:\u001b[0m KWin\u001b[0m \n",
      "\u001b[43C\u001b[0m\u001b[34m\u001b[1mTheme\u001b[0m\u001b[0m:\u001b[0m [Plasma], Breeze [GTK2/3]\u001b[0m \n",
      "\u001b[43C\u001b[0m\u001b[34m\u001b[1mIcons\u001b[0m\u001b[0m:\u001b[0m [Plasma], breeze [GTK2/3]\u001b[0m \n",
      "\u001b[43C\u001b[0m\u001b[34m\u001b[1mTerminal\u001b[0m\u001b[0m:\u001b[0m jupyter-noteboo\u001b[0m \n",
      "\u001b[43C\u001b[0m\u001b[34m\u001b[1mCPU\u001b[0m\u001b[0m:\u001b[0m Intel i7-4510U (4) @ 3.100GHz\u001b[0m \n",
      "\u001b[43C\u001b[0m\u001b[34m\u001b[1mGPU\u001b[0m\u001b[0m:\u001b[0m Intel Haswell-ULT\u001b[0m \n",
      "\u001b[43C\u001b[0m\u001b[34m\u001b[1mGPU\u001b[0m\u001b[0m:\u001b[0m NVIDIA GeForce 840M\u001b[0m \n",
      "\u001b[43C\u001b[0m\u001b[34m\u001b[1mMemory\u001b[0m\u001b[0m:\u001b[0m 4366MiB / 15922MiB\u001b[0m \n",
      "\n",
      "\u001b[43C\u001b[30m\u001b[40m   \u001b[31m\u001b[41m   \u001b[32m\u001b[42m   \u001b[33m\u001b[43m   \u001b[34m\u001b[44m   \u001b[35m\u001b[45m   \u001b[36m\u001b[46m   \u001b[37m\u001b[47m   \u001b[m\n",
      "\u001b[43C\u001b[38;5;8m\u001b[48;5;8m   \u001b[38;5;9m\u001b[48;5;9m   \u001b[38;5;10m\u001b[48;5;10m   \u001b[38;5;11m\u001b[48;5;11m   \u001b[38;5;12m\u001b[48;5;12m   \u001b[38;5;13m\u001b[48;5;13m   \u001b[38;5;14m\u001b[48;5;14m   \u001b[38;5;15m\u001b[48;5;15m   \u001b[m\n",
      "\n",
      "\n",
      "\u001b[?25h\u001b[?7h"
     ]
    }
   ],
   "source": [
    "!neofetch"
   ]
  }
 ],
 "metadata": {
  "colab": {
   "provenance": [],
   "toc_visible": true
  },
  "kernelspec": {
   "display_name": "Python 3 (ipykernel)",
   "language": "python",
   "name": "python3"
  },
  "language_info": {
   "codemirror_mode": {
    "name": "ipython",
    "version": 3
   },
   "file_extension": ".py",
   "mimetype": "text/x-python",
   "name": "python",
   "nbconvert_exporter": "python",
   "pygments_lexer": "ipython3",
   "version": "3.12.3"
  }
 },
 "nbformat": 4,
 "nbformat_minor": 4
}
